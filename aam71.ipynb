{
  "cells": [
    {
      "cell_type": "markdown",
      "metadata": {
        "id": "view-in-github",
        "colab_type": "text"
      },
      "source": [
        "<a href=\"https://colab.research.google.com/github/Saxumatrum/Saxumatrum/blob/main/aam71.ipynb\" target=\"_parent\"><img src=\"https://colab.research.google.com/assets/colab-badge.svg\" alt=\"Open In Colab\"/></a>"
      ]
    },
    {
      "cell_type": "markdown",
      "metadata": {
        "id": "cIg6enKVhhi4"
      },
      "source": [
        "\n",
        "\n",
        "## **COMP6685 Deep Learning Coursework A1**\n",
        "\n",
        "\n",
        "Individual (25% of total mark)\n",
        "\n",
        "\n",
        "**TASK:**\tYou are required to develop a phyton code with appropriate comments and answer questions.\n",
        "\n",
        "**Description**: Create a code using this temlate to train a Convolutional Neural Network (CNN) on the fashion MNIST dataset available at https://keras.io/api/datasets/fashion_mnist/ . \n",
        "\n",
        "Fashion MNIST is a dataset of 60,000 28x28 grayscale images of 10 fashion categories, along with a test set of 10,000 images.\n",
        "\n",
        "The dataset should be imported in the code and one sample image should be visualised before applying the model.\n",
        "\n",
        "Define a CNN and comment the chosen parameters of the network. Apply a regularization method (L1, L2 or L1L2). Divide the dataset into training, validation and test set. Obtain the accuracy on the validation set and plot the final results using the data from the test set. Comment your lines of code appropriately to explain your solution.\n",
        "\n",
        "Enhance the model's performance to obtain the best or optimal validation accuracy. Further questions about final remarks on the results will be answered on the markdown defined in the template.\n",
        "\n",
        "---\n",
        "---\n",
        "\n",
        "Note: This is only a template. You can add more code/text cells if necessary."
      ]
    },
    {
      "cell_type": "markdown",
      "metadata": {
        "id": "qysRQbvOm1c4"
      },
      "source": [
        "Import the dataset and divide it appropriately into sets for cross-validation. **(10 marks)**\n",
        "\n",
        "---"
      ]
    },
    {
      "cell_type": "code",
      "execution_count": 1,
      "metadata": {
        "id": "tV9PO1GBl5_6",
        "colab": {
          "base_uri": "https://localhost:8080/"
        },
        "outputId": "6037cdc4-dc18-4230-f013-8742084a0fa9"
      },
      "outputs": [
        {
          "output_type": "stream",
          "name": "stdout",
          "text": [
            "60000 train samples\n",
            "10000 test samples\n",
            "Ready\n"
          ]
        }
      ],
      "source": [
        "#Importing of libraries\n",
        "import numpy as np\n",
        "from tensorflow import keras\n",
        "from keras import layers\n",
        "from keras.layers import Dense, Activation\n",
        "from keras.models import Sequential\n",
        "from keras.datasets import fashion_mnist\n",
        "import matplotlib.pyplot as plt\n",
        "from keras.layers import Flatten\n",
        "from keras.layers import Dropout\n",
        "from keras.layers import MaxPooling2D\n",
        "from keras.layers import Conv2D\n",
        "from keras.layers import MaxPooling2D\n",
        "from keras import utils\n",
        "from keras import regularizers\n",
        "from sklearn.model_selection import KFold\n",
        "\n",
        "#import and split fashion mnist\n",
        "(train_images, train_labels), (test_images, test_labels) = fashion_mnist.load_data()\n",
        "\n",
        "# consider them as float and normalize\n",
        "train_images = train_images.reshape((60000, 28, 28, 1))\n",
        "train_images = train_images.astype(\"float32\") / 255\n",
        "test_images = test_images.reshape((10000, 28, 28, 1))\n",
        "test_images = test_images.astype(\"float32\") / 255\n",
        "\n",
        "\n",
        "#show the size of the train and test datasets\n",
        "print(train_images.shape[0], 'train samples')\n",
        "print(test_images.shape[0], 'test samples')\n",
        "\n",
        "\n",
        "\n",
        "\n",
        "\n",
        "\n",
        "print('Ready')\n",
        "\n"
      ]
    },
    {
      "cell_type": "markdown",
      "metadata": {
        "id": "hZ-3DSkDdrUh"
      },
      "source": [
        "*your answer here*"
      ]
    },
    {
      "cell_type": "markdown",
      "metadata": {
        "id": "2-xHphsvmG7F"
      },
      "source": [
        "Visualise a random sample image of the dataset. **(5 marks)**\n",
        "\n",
        "---\n",
        "\n"
      ]
    },
    {
      "cell_type": "code",
      "execution_count": 2,
      "metadata": {
        "id": "bTTrIN_nnDWK",
        "colab": {
          "base_uri": "https://localhost:8080/",
          "height": 265
        },
        "outputId": "75072465-1c1a-4b89-f4fc-648716a1e632"
      },
      "outputs": [
        {
          "output_type": "display_data",
          "data": {
            "text/plain": [
              "<Figure size 432x288 with 1 Axes>"
            ],
            "image/png": "[encoded data removed]"
          },
          "metadata": {
            "needs_background": "light"
          }
        }
      ],
      "source": [
        "import random\n",
        "number=np.random.randint(len(train_images))\n",
        "image=train_images[number]\n",
        "plt.imshow(image.reshape(28,28))\n",
        "plt.show()"
      ]
    },
    {
      "cell_type": "markdown",
      "metadata": {
        "id": "lMhGFcimoUwz"
      },
      "source": [
        "Define your CNN model. Specify the network and training parameters and comment them. **(10 marks)**\n",
        "\n",
        "---"
      ]
    },
    {
      "cell_type": "code",
      "execution_count": 8,
      "metadata": {
        "id": "urupEGOFooUz",
        "colab": {
          "base_uri": "https://localhost:8080/"
        },
        "outputId": "ca97c38b-0d69-4309-a4cd-3c0a899d0396"
      },
      "outputs": [
        {
          "output_type": "stream",
          "name": "stdout",
          "text": [
            "Model: \"model_1\"\n",
            "_________________________________________________________________\n",
            " Layer (type)                Output Shape              Param #   \n",
            "=================================================================\n",
            " input_2 (InputLayer)        [(None, 28, 28, 1)]       0         \n",
            "                                                                 \n",
            " conv2d_1 (Conv2D)           (None, 28, 28, 32)        832       \n",
            "                                                                 \n",
            " max_pooling2d_1 (MaxPooling  (None, 14, 14, 32)       0         \n",
            " 2D)                                                             \n",
            "                                                                 \n",
            " flatten_1 (Flatten)         (None, 6272)              0         \n",
            "                                                                 \n",
            " dense_2 (Dense)             (None, 100)               627300    \n",
            "                                                                 \n",
            " dropout_1 (Dropout)         (None, 100)               0         \n",
            "                                                                 \n",
            " dense_3 (Dense)             (None, 10)                1010      \n",
            "                                                                 \n",
            "=================================================================\n",
            "Total params: 629,142\n",
            "Trainable params: 629,142\n",
            "Non-trainable params: 0\n",
            "_________________________________________________________________\n"
          ]
        }
      ],
      "source": [
        "#TRAINING PARAMETERS\n",
        "\n",
        "BATCH_SIZE=128\n",
        "N_EPOCHS=10\n",
        "VALIDATION_SPLIT=0.2\n",
        "VERBOSE=1\n",
        "INPUTS=(28,28,1)\n",
        "N_CLASSES=10\n",
        "\n",
        "#DEFINING THE CNN\n",
        "\n",
        "inputs=keras.Input(shape=INPUTS)\n",
        "\n",
        "#first input layer with L1 regularisation and first pooling layer\n",
        "first=layers.Conv2D(filters=32, kernel_size=5,activation='relu',kernel_regularizer=regularizers.l1(0.001),padding='same')(inputs)\n",
        "first_pool=layers.MaxPooling2D(pool_size=(2,2),strides=(2,2),padding='same')(first)\n",
        "\n",
        "\n",
        "#flatten output from pooling into linear vector\n",
        "flat=layers.Flatten()(first_pool)\n",
        "\n",
        "#dense layer with 100 neurons and a drpout of 0.5\n",
        "third=layers.Dense(100,activation='relu')(flat)\n",
        "dropout=layers.Dropout(0.5)(third)\n",
        "\n",
        "#output layer with 10 neurons and softmax activation\n",
        "fourth=layers.Dense(N_CLASSES,activation='softmax')(dropout)\n",
        "\n",
        "\n",
        "\n",
        "#declaring the model\n",
        "model = keras.Model(inputs=inputs, outputs=fourth)\n",
        "\n",
        "\n",
        "#compiling the model with parameters\n",
        "model.compile(optimizer='adam',loss='sparse_categorical_crossentropy',metrics=['accuracy'])\n",
        "\n",
        "model.summary()\n",
        "\n",
        "\n",
        "\n",
        "\n",
        "\n"
      ]
    },
    {
      "cell_type": "markdown",
      "metadata": {
        "id": "csCYqn-9pDuJ"
      },
      "source": [
        "Train the CNN model using k-fold cross-validation. **(10 marks)**\n",
        "\n",
        "---"
      ]
    },
    {
      "cell_type": "code",
      "execution_count": 4,
      "metadata": {
        "id": "xESPeCWnpJek",
        "colab": {
          "base_uri": "https://localhost:8080/"
        },
        "outputId": "1292a79c-8005-4499-b539-4c2d21a54201"
      },
      "outputs": [
        {
          "output_type": "stream",
          "name": "stdout",
          "text": [
            "K-FOLD 1\n",
            "Epoch 1/10\n",
            "375/375 [==============================] - 50s 129ms/step - loss: 0.6416 - accuracy: 0.7914 - val_loss: 0.4133 - val_accuracy: 0.8645\n",
            "Epoch 2/10\n",
            "375/375 [==============================] - 38s 102ms/step - loss: 0.4415 - accuracy: 0.8617 - val_loss: 0.3608 - val_accuracy: 0.8842\n",
            "Epoch 3/10\n",
            "375/375 [==============================] - 38s 103ms/step - loss: 0.3908 - accuracy: 0.8773 - val_loss: 0.3315 - val_accuracy: 0.8916\n",
            "Epoch 4/10\n",
            "375/375 [==============================] - 38s 101ms/step - loss: 0.3590 - accuracy: 0.8865 - val_loss: 0.3132 - val_accuracy: 0.8990\n",
            "Epoch 5/10\n",
            "375/375 [==============================] - 38s 101ms/step - loss: 0.3405 - accuracy: 0.8921 - val_loss: 0.3022 - val_accuracy: 0.9037\n",
            "Epoch 6/10\n",
            "375/375 [==============================] - 40s 106ms/step - loss: 0.3248 - accuracy: 0.8961 - val_loss: 0.2966 - val_accuracy: 0.9038\n",
            "Epoch 7/10\n",
            "375/375 [==============================] - 37s 100ms/step - loss: 0.3125 - accuracy: 0.8999 - val_loss: 0.2922 - val_accuracy: 0.9052\n",
            "Epoch 8/10\n",
            "375/375 [==============================] - 37s 99ms/step - loss: 0.2992 - accuracy: 0.9045 - val_loss: 0.3032 - val_accuracy: 0.8979\n",
            "Epoch 9/10\n",
            "375/375 [==============================] - 39s 103ms/step - loss: 0.2878 - accuracy: 0.9081 - val_loss: 0.2828 - val_accuracy: 0.9090\n",
            "Epoch 10/10\n",
            "375/375 [==============================] - 39s 103ms/step - loss: 0.2795 - accuracy: 0.9099 - val_loss: 0.2745 - val_accuracy: 0.9086\n",
            "313/313 [==============================] - 3s 8ms/step - loss: 0.2879 - accuracy: 0.9054\n",
            "K-FOLD 2\n",
            "Epoch 1/10\n",
            "375/375 [==============================] - 38s 100ms/step - loss: 0.2698 - accuracy: 0.9140 - val_loss: 0.2781 - val_accuracy: 0.9095\n",
            "Epoch 2/10\n",
            "375/375 [==============================] - 37s 99ms/step - loss: 0.2638 - accuracy: 0.9165 - val_loss: 0.2752 - val_accuracy: 0.9131\n",
            "Epoch 3/10\n",
            "375/375 [==============================] - 37s 100ms/step - loss: 0.2558 - accuracy: 0.9179 - val_loss: 0.2752 - val_accuracy: 0.9120\n",
            "Epoch 4/10\n",
            "375/375 [==============================] - 37s 98ms/step - loss: 0.2522 - accuracy: 0.9200 - val_loss: 0.2672 - val_accuracy: 0.9151\n",
            "Epoch 5/10\n",
            "375/375 [==============================] - 38s 103ms/step - loss: 0.2470 - accuracy: 0.9205 - val_loss: 0.2799 - val_accuracy: 0.9090\n",
            "Epoch 6/10\n",
            "375/375 [==============================] - 36s 97ms/step - loss: 0.2405 - accuracy: 0.9237 - val_loss: 0.2730 - val_accuracy: 0.9133\n",
            "Epoch 7/10\n",
            "375/375 [==============================] - 36s 96ms/step - loss: 0.2317 - accuracy: 0.9260 - val_loss: 0.2797 - val_accuracy: 0.9112\n",
            "Epoch 8/10\n",
            "375/375 [==============================] - 37s 100ms/step - loss: 0.2271 - accuracy: 0.9267 - val_loss: 0.2732 - val_accuracy: 0.9113\n",
            "Epoch 9/10\n",
            "375/375 [==============================] - 37s 99ms/step - loss: 0.2224 - accuracy: 0.9294 - val_loss: 0.2678 - val_accuracy: 0.9151\n",
            "Epoch 10/10\n",
            "375/375 [==============================] - 37s 99ms/step - loss: 0.2182 - accuracy: 0.9310 - val_loss: 0.2731 - val_accuracy: 0.9143\n",
            "313/313 [==============================] - 3s 8ms/step - loss: 0.2858 - accuracy: 0.9104\n",
            "K-FOLD 3\n",
            "Epoch 1/10\n",
            "375/375 [==============================] - 37s 100ms/step - loss: 0.2127 - accuracy: 0.9317 - val_loss: 0.2714 - val_accuracy: 0.9161\n",
            "Epoch 2/10\n",
            "375/375 [==============================] - 37s 99ms/step - loss: 0.2083 - accuracy: 0.9344 - val_loss: 0.2750 - val_accuracy: 0.9169\n",
            "Epoch 3/10\n",
            "375/375 [==============================] - 38s 100ms/step - loss: 0.2016 - accuracy: 0.9365 - val_loss: 0.2731 - val_accuracy: 0.9169\n",
            "Epoch 4/10\n",
            "375/375 [==============================] - 38s 100ms/step - loss: 0.2004 - accuracy: 0.9380 - val_loss: 0.2825 - val_accuracy: 0.9146\n",
            "Epoch 5/10\n",
            "375/375 [==============================] - 37s 99ms/step - loss: 0.1990 - accuracy: 0.9368 - val_loss: 0.2723 - val_accuracy: 0.9154\n",
            "Epoch 6/10\n",
            "375/375 [==============================] - 39s 104ms/step - loss: 0.1934 - accuracy: 0.9386 - val_loss: 0.2767 - val_accuracy: 0.9165\n",
            "Epoch 7/10\n",
            "375/375 [==============================] - 37s 99ms/step - loss: 0.1880 - accuracy: 0.9409 - val_loss: 0.2764 - val_accuracy: 0.9187\n",
            "Epoch 8/10\n",
            "375/375 [==============================] - 36s 96ms/step - loss: 0.1836 - accuracy: 0.9423 - val_loss: 0.2776 - val_accuracy: 0.9172\n",
            "Epoch 9/10\n",
            "375/375 [==============================] - 37s 98ms/step - loss: 0.1823 - accuracy: 0.9435 - val_loss: 0.2829 - val_accuracy: 0.9178\n",
            "Epoch 10/10\n",
            "375/375 [==============================] - 37s 100ms/step - loss: 0.1788 - accuracy: 0.9426 - val_loss: 0.2831 - val_accuracy: 0.9181\n",
            "313/313 [==============================] - 3s 8ms/step - loss: 0.2952 - accuracy: 0.9139\n",
            "K-FOLD 4\n",
            "Epoch 1/10\n",
            "375/375 [==============================] - 36s 96ms/step - loss: 0.1764 - accuracy: 0.9441 - val_loss: 0.2829 - val_accuracy: 0.9177\n",
            "Epoch 2/10\n",
            "375/375 [==============================] - 37s 98ms/step - loss: 0.1731 - accuracy: 0.9462 - val_loss: 0.2867 - val_accuracy: 0.9189\n",
            "Epoch 3/10\n",
            "375/375 [==============================] - 37s 99ms/step - loss: 0.1694 - accuracy: 0.9473 - val_loss: 0.2919 - val_accuracy: 0.9169\n",
            "Epoch 4/10\n",
            "375/375 [==============================] - 37s 98ms/step - loss: 0.1685 - accuracy: 0.9471 - val_loss: 0.2846 - val_accuracy: 0.9176\n",
            "Epoch 5/10\n",
            "375/375 [==============================] - 37s 99ms/step - loss: 0.1649 - accuracy: 0.9489 - val_loss: 0.3074 - val_accuracy: 0.9144\n",
            "Epoch 6/10\n",
            "375/375 [==============================] - 39s 104ms/step - loss: 0.1624 - accuracy: 0.9494 - val_loss: 0.2828 - val_accuracy: 0.9188\n",
            "Epoch 7/10\n",
            "375/375 [==============================] - 37s 98ms/step - loss: 0.1593 - accuracy: 0.9498 - val_loss: 0.2865 - val_accuracy: 0.9174\n",
            "Epoch 8/10\n",
            "375/375 [==============================] - 37s 100ms/step - loss: 0.1581 - accuracy: 0.9501 - val_loss: 0.3029 - val_accuracy: 0.9170\n",
            "Epoch 9/10\n",
            "375/375 [==============================] - 36s 96ms/step - loss: 0.1564 - accuracy: 0.9505 - val_loss: 0.3024 - val_accuracy: 0.9172\n",
            "Epoch 10/10\n",
            "375/375 [==============================] - 37s 98ms/step - loss: 0.1541 - accuracy: 0.9529 - val_loss: 0.2973 - val_accuracy: 0.9175\n",
            "313/313 [==============================] - 3s 9ms/step - loss: 0.3067 - accuracy: 0.9148\n",
            "K-FOLD 5\n",
            "Epoch 1/10\n",
            "375/375 [==============================] - 38s 102ms/step - loss: 0.1524 - accuracy: 0.9519 - val_loss: 0.3011 - val_accuracy: 0.9178\n",
            "Epoch 2/10\n",
            "375/375 [==============================] - 36s 97ms/step - loss: 0.1483 - accuracy: 0.9539 - val_loss: 0.3013 - val_accuracy: 0.9171\n",
            "Epoch 3/10\n",
            "375/375 [==============================] - 36s 97ms/step - loss: 0.1455 - accuracy: 0.9557 - val_loss: 0.3043 - val_accuracy: 0.9192\n",
            "Epoch 4/10\n",
            "375/375 [==============================] - 37s 99ms/step - loss: 0.1453 - accuracy: 0.9550 - val_loss: 0.2985 - val_accuracy: 0.9188\n",
            "Epoch 5/10\n",
            "375/375 [==============================] - 37s 99ms/step - loss: 0.1393 - accuracy: 0.9573 - val_loss: 0.3096 - val_accuracy: 0.9182\n",
            "Epoch 6/10\n",
            "375/375 [==============================] - 37s 99ms/step - loss: 0.1407 - accuracy: 0.9569 - val_loss: 0.3107 - val_accuracy: 0.9165\n",
            "Epoch 7/10\n",
            "375/375 [==============================] - 37s 99ms/step - loss: 0.1376 - accuracy: 0.9573 - val_loss: 0.3157 - val_accuracy: 0.9179\n",
            "Epoch 8/10\n",
            "375/375 [==============================] - 37s 98ms/step - loss: 0.1367 - accuracy: 0.9577 - val_loss: 0.3122 - val_accuracy: 0.9167\n",
            "Epoch 9/10\n",
            "375/375 [==============================] - 36s 95ms/step - loss: 0.1354 - accuracy: 0.9593 - val_loss: 0.3224 - val_accuracy: 0.9158\n",
            "Epoch 10/10\n",
            "375/375 [==============================] - 36s 97ms/step - loss: 0.1355 - accuracy: 0.9579 - val_loss: 0.3304 - val_accuracy: 0.9151\n",
            "313/313 [==============================] - 4s 13ms/step - loss: 0.3525 - accuracy: 0.9138\n"
          ]
        }
      ],
      "source": [
        "kfold = KFold(n_splits=5, shuffle=True) #declaring number of folds. Shuffle=True means datset is shuffled after every split\n",
        "n=1\n",
        "accuracy_list = []             #list to hold the 5 accuracy scores from the 5 folds\n",
        "loss_list=[]                   #list to hold the 5 loss scores from the 5 folds\n",
        "for train, test in kfold.split(train_images, train_labels):\n",
        "  print(f\"K-FOLD {n}\")\n",
        "  model.fit(train_images, train_labels, batch_size=BATCH_SIZE,epochs=N_EPOCHS, validation_split=VALIDATION_SPLIT,verbose=VERBOSE)  #fitting the model to the data\n",
        "  loss, accuracy = model.evaluate(test_images, test_labels)  # evaluate loss and accuracy scores and append them to respective lists\n",
        "  accuracy_list.append(accuracy)\n",
        "  loss_list.append(loss)\n",
        "  n=n+1"
      ]
    },
    {
      "cell_type": "markdown",
      "metadata": {
        "id": "FFMiFtDCpjMG"
      },
      "source": [
        "Evaluate your model in cross-validation. Calculate and print the loss and accuracy scores in each fold. Print the average cross-validation accuracy and loss your network achieved (in all folds). **(15 marks)**\n"
      ]
    },
    {
      "cell_type": "code",
      "execution_count": 7,
      "metadata": {
        "id": "WnCeV6qP6xmT",
        "colab": {
          "base_uri": "https://localhost:8080/"
        },
        "outputId": "ff651ede-beb7-4486-e750-fd8b17fdf6cf"
      },
      "outputs": [
        {
          "output_type": "stream",
          "name": "stdout",
          "text": [
            "the accuracy scores for each k-fold are:  [0.9053999781608582, 0.9103999733924866, 0.9139000177383423, 0.9147999882698059, 0.9138000011444092]\n",
            "the loss scores for each k-fold are:  [0.2879372239112854, 0.2857828736305237, 0.2952173948287964, 0.30669838190078735, 0.3525087833404541]\n",
            "the average accuracy across all folds is: 0.912\n",
            "the average loss across all folds is: 0.306\n"
          ]
        }
      ],
      "source": [
        "print('the accuracy scores for each k-fold are: ', accuracy_list)  #display accuracy score for each k-fold\n",
        "print('the loss scores for each k-fold are: ',loss_list)           #display loss score for each k-fold\n",
        "avg_accuracy= sum(accuracy_list)/len(accuracy_list)  #mean/avg accuracy\n",
        "avg_loss= sum(loss_list)/len(loss_list)             #mean/avg loss\n",
        "\n",
        "print(f\"the average accuracy across all folds is: {avg_accuracy:.3f}\")\n",
        "print(f\"the average loss across all folds is: {avg_loss:.3f}\")"
      ]
    },
    {
      "cell_type": "markdown",
      "metadata": {
        "id": "4GvX1moIqqm0"
      },
      "source": [
        "*your answer here*"
      ]
    },
    {
      "cell_type": "markdown",
      "metadata": {
        "id": "S48e3kq_qCCi"
      },
      "source": [
        "Plot the final results (accuracy/loss) on the test set in each fold. **(10 marks)**\n",
        "\n",
        "---"
      ]
    },
    {
      "cell_type": "code",
      "execution_count": 6,
      "metadata": {
        "id": "DLLIrvy2psKZ",
        "colab": {
          "base_uri": "https://localhost:8080/",
          "height": 295
        },
        "outputId": "05bf0953-5888-4195-94b7-2eb63ebf988a"
      },
      "outputs": [
        {
          "output_type": "display_data",
          "data": {
            "text/plain": [
              "<Figure size 432x288 with 1 Axes>"
            ],
            "image/png": "[encoded data removed]"
          },
          "metadata": {
            "needs_background": "light"
          }
        }
      ],
      "source": [
        "plt.plot(accuracy_list,loss_list,'r-')  #accuracy list as x and loss list as y (line)\n",
        "plt.plot(accuracy_list,loss_list,'ro')  #accuracy list as x and loss list as y (points)\n",
        "plt.xlabel('accuracy')\n",
        "plt.ylabel('loss')\n",
        "plt.title('Accuracy vs Loss')\n",
        "\n",
        "plt.show()"
      ]
    },
    {
      "cell_type": "markdown",
      "metadata": {
        "id": "ImI7busBrCie"
      },
      "source": [
        "Additional questions:\n",
        "\n",
        "\n",
        "*   Describe whether you found any differences in the network’s accuracy when applying regularisation compared to not applying it. If there were differences, which regularisation did you use? If no differences were found, what could be the reason? **(10 marks)**\n",
        "\n",
        "Ans: Yes, initially I did not apply a regularisation technique and my accuracy hit a plateau when it got to 0.90. I then increased the number of neurons in the dense layer and applied an L1 regulariser. This increased my accuracy to 0.91, and reduced my loss to 0.32, from 0.41.\n",
        "\n",
        "*   Write your conclusions about the results achieved with your model on the fashion MNIST dataset and ideas to improve these results/performance further. **(10 marks)**\n",
        "\n",
        "Ans: I think my model performed well. Having a convolutional layer meant I did not need to train it for as many epochs as a multi-layer perceptron. Regularisers are very much needed to prevent overfitting, as stated above. I experimented with different ones and found L1 regulariser gave me the best results. Having an incessantly large number of neurons increased my training time without increasing my accuracy. These are my conclusions.\n",
        "\n",
        "---\n",
        "\n"
      ]
    },
    {
      "cell_type": "markdown",
      "metadata": {
        "id": "EcSc_1JiqRA3"
      },
      "source": [
        "Additional remarks:\n",
        "\n",
        "*   Code outline appropriately commented. **(10 marks)**\n",
        "*   Code running without errors. **(10 marks)**\n",
        "\n",
        "---\n",
        "\n"
      ]
    }
  ],
  "metadata": {
    "colab": {
      "provenance": [],
      "include_colab_link": true
    },
    "kernelspec": {
      "display_name": "base",
      "language": "python",
      "name": "python3"
    },
    "language_info": {
      "name": "python",
      "version": "3.9.13 (main, Aug 25 2022, 23:51:50) [MSC v.1916 64 bit (AMD64)]"
    },
    "vscode": {
      "interpreter": {
        "hash": "d3e7af04d29b7c7f09156ce72bf463dad5c8b45a218773abf1ffb50277174388"
      }
    }
  },
  "nbformat": 4,
  "nbformat_minor": 0
}