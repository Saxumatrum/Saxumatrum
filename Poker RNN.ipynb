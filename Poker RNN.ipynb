{
 "cells": [
  {
   "cell_type": "markdown",
   "id": "fe4a72b0",
   "metadata": {},
   "source": [
    "# COMP8685 Deep Learning Assignment 3 (A3)\n",
    "\n",
    "Individual (25% of total mark)\n",
    "\n",
    "##  Task: \n",
    "You are required to develop a phyton code with additional comments to answer the question in the next section. \n",
    "\n",
    "##  Description: \n",
    "Create a code, in the provided template in Moodle, to train two Recurrent Neural Networks (RNNs) on the public benchmark dataset named Poker Hand available at: https://archive.ics.uci.edu/ml/datasets/Poker+Hand. \n",
    "\n",
    "Poker Hand dataset is composed of one training set named “poker-hand-training-true.data” and one testing set named “poker-hand-testing.data”. \n",
    "You will need to download both training and testing sets into your local disk by clicking the Data Folder link (see the image below).\n",
    "\n",
    "In Poker Hand dataset, each data sample (row) is an example of a hand consisting of five playing cards drawn from a standard deck of 52. Each card is described using two attributes (suit and rank), for a total of 10 predictive attributes. There is one Class attribute that describes the \"Poker Hand\". You can find more information about this dataset from: \n",
    "https://www.kaggle.com/datasets/rasvob/uci-poker-hand-dataset\n",
    "\n",
    "The dataset should be imported in the code. An example on how to import the dataset to your code can be found from the link below:\n",
    "https://www.kaggle.com/code/rasvob/uci-poker-dataset-classification\n",
    "\n",
    "Note: This is only a template. You can add more code/text cells if necessary."
   ]
  },
  {
   "cell_type": "code",
   "execution_count": 1,
   "id": "c2d515ec",
   "metadata": {},
   "outputs": [
    {
     "name": "stderr",
     "output_type": "stream",
     "text": [
      "2023-03-24 19:28:12.435750: W tensorflow/stream_executor/platform/default/dso_loader.cc:64] Could not load dynamic library 'libcudart.so.11.0'; dlerror: libcudart.so.11.0: cannot open shared object file: No such file or directory\n",
      "2023-03-24 19:28:12.435783: I tensorflow/stream_executor/cuda/cudart_stub.cc:29] Ignore above cudart dlerror if you do not have a GPU set up on your machine.\n"
     ]
    },
    {
     "name": "stdout",
     "output_type": "stream",
     "text": [
      "Imported\n"
     ]
    }
   ],
   "source": [
    "#importing the necessary libraries\n",
    "import tensorflow\n",
    "import pandas as pd\n",
    "import numpy as np\n",
    "import matplotlib.pyplot as plt\n",
    "from keras.models import Sequential\n",
    "from keras.layers import Dense,SimpleRNN,GRU\n",
    "from tensorflow.keras.utils import to_categorical\n",
    "from sklearn.metrics import confusion_matrix,ConfusionMatrixDisplay\n",
    "print('Imported')\n",
    "\n"
   ]
  },
  {
   "cell_type": "markdown",
   "id": "25e5b81a",
   "metadata": {},
   "source": [
    "## Import the training and testing set in the cell below (10 marks)"
   ]
  },
  {
   "cell_type": "code",
   "execution_count": 2,
   "id": "9102904e",
   "metadata": {},
   "outputs": [],
   "source": [
    "#importing the training and testing sets as pandas dataframes\n",
    "training_set=pd.read_csv('poker-hand-training-true.data')\n",
    "testing_set=pd.read_csv('poker-hand-testing.data')\n",
    "\n",
    "#giving the dataframes column names so I do not lose any data\n",
    "training_set.columns = ['S1', 'C1','S2', 'C2','S3', 'C3','S4', 'C4','S5', 'C5','Label']\n",
    "testing_set.columns = ['S1', 'C1','S2', 'C2','S3', 'C3','S4', 'C4','S5', 'C5','Label']\n",
    "\n",
    "#defining the inputs and outputs/labels for both training and testing sets\n",
    "X_train = training_set.loc[:,training_set.columns != 'Label']\n",
    "X_test = testing_set.loc[:,testing_set.columns != 'Label']\n",
    "Y_train = training_set['Label']\n",
    "Y_test = testing_set['Label']\n",
    "\n",
    "#putting into numpy arrays\n",
    "X_train = X_train.values\n",
    "X_test = X_test.values\n",
    "Y_train = Y_train.values\n",
    "Y_test = Y_test.values\n",
    "\n",
    "#reshaping into dimensions(timestep data)\n",
    "X_train = X_train.reshape(25009, 5, 2)\n",
    "X_test = X_test.reshape(999999, 5, 2)\n",
    "Y_train = Y_train.reshape(25009, 1)\n",
    "Y_test = Y_test.reshape(999999, 1)\n",
    "\n",
    "#onehot encoding labels\n",
    "Y_train = to_categorical(Y_train, num_classes=10)\n",
    "Y_test = to_categorical(Y_test, num_classes=10)\n",
    "\n"
   ]
  },
  {
   "cell_type": "markdown",
   "id": "c42a8b9d",
   "metadata": {},
   "source": [
    "## Implement the vanilla RNN in the cell below (10 marks)"
   ]
  },
  {
   "cell_type": "code",
   "execution_count": 3,
   "id": "c55b958d",
   "metadata": {},
   "outputs": [
    {
     "name": "stdout",
     "output_type": "stream",
     "text": [
      "Model: \"sequential\"\n",
      "_________________________________________________________________\n",
      " Layer (type)                Output Shape              Param #   \n",
      "=================================================================\n",
      " simple_rnn (SimpleRNN)      (None, 100)               10300     \n",
      "                                                                 \n",
      " dense (Dense)               (None, 10)                1010      \n",
      "                                                                 \n",
      "=================================================================\n",
      "Total params: 11,310\n",
      "Trainable params: 11,310\n",
      "Non-trainable params: 0\n",
      "_________________________________________________________________\n"
     ]
    },
    {
     "name": "stderr",
     "output_type": "stream",
     "text": [
      "2023-03-24 19:28:14.347302: W tensorflow/stream_executor/platform/default/dso_loader.cc:64] Could not load dynamic library 'libcuda.so.1'; dlerror: libcuda.so.1: cannot open shared object file: No such file or directory\n",
      "2023-03-24 19:28:14.347330: W tensorflow/stream_executor/cuda/cuda_driver.cc:269] failed call to cuInit: UNKNOWN ERROR (303)\n",
      "2023-03-24 19:28:14.347345: I tensorflow/stream_executor/cuda/cuda_diagnostics.cc:156] kernel driver does not appear to be running on this host (jupyter): /proc/driver/nvidia/version does not exist\n",
      "2023-03-24 19:28:14.347543: I tensorflow/core/platform/cpu_feature_guard.cc:151] This TensorFlow binary is optimized with oneAPI Deep Neural Network Library (oneDNN) to use the following CPU instructions in performance-critical operations:  AVX2 AVX512F FMA\n",
      "To enable them in other operations, rebuild TensorFlow with the appropriate compiler flags.\n"
     ]
    }
   ],
   "source": [
    "#DEFINING THE Vanilla RNN\n",
    "model=Sequential() #Container for the model\n",
    "\n",
    "model.add(SimpleRNN(units=100, input_shape=(5,2), activation='relu'))#First RNN input layer\n",
    "model.add(Dense(units=10, activation='softmax'))#output layer with 10 neurons because there are 10 classes\n",
    "\n",
    "#compiling the model with parameters\n",
    "model.compile(optimizer='adam',loss='mean_squared_error',metrics=['accuracy'])\n",
    "model.summary()\n"
   ]
  },
  {
   "cell_type": "markdown",
   "id": "cc3706ee",
   "metadata": {},
   "source": [
    "## Train the vanilla RNN based on the training set in the cell below (5 marks)"
   ]
  },
  {
   "cell_type": "code",
   "execution_count": 4,
   "id": "9cda5c82",
   "metadata": {
    "scrolled": true
   },
   "outputs": [
    {
     "name": "stdout",
     "output_type": "stream",
     "text": [
      "Epoch 1/40\n",
      "98/98 [==============================] - 1s 5ms/step - loss: 0.0616 - accuracy: 0.4953\n",
      "Epoch 2/40\n",
      "98/98 [==============================] - 0s 5ms/step - loss: 0.0559 - accuracy: 0.5348\n",
      "Epoch 3/40\n",
      "98/98 [==============================] - 0s 5ms/step - loss: 0.0552 - accuracy: 0.5456\n",
      "Epoch 4/40\n",
      "98/98 [==============================] - 1s 5ms/step - loss: 0.0548 - accuracy: 0.5511\n",
      "Epoch 5/40\n",
      "98/98 [==============================] - 0s 5ms/step - loss: 0.0543 - accuracy: 0.5602\n",
      "Epoch 6/40\n",
      "98/98 [==============================] - 0s 5ms/step - loss: 0.0541 - accuracy: 0.5664\n",
      "Epoch 7/40\n",
      "98/98 [==============================] - 0s 5ms/step - loss: 0.0538 - accuracy: 0.5692\n",
      "Epoch 8/40\n",
      "98/98 [==============================] - 1s 5ms/step - loss: 0.0532 - accuracy: 0.5716\n",
      "Epoch 9/40\n",
      "98/98 [==============================] - 0s 5ms/step - loss: 0.0526 - accuracy: 0.5861\n",
      "Epoch 10/40\n",
      "98/98 [==============================] - 0s 5ms/step - loss: 0.0522 - accuracy: 0.5889\n",
      "Epoch 11/40\n",
      "98/98 [==============================] - 1s 5ms/step - loss: 0.0516 - accuracy: 0.6006\n",
      "Epoch 12/40\n",
      "98/98 [==============================] - 0s 5ms/step - loss: 0.0513 - accuracy: 0.6057\n",
      "Epoch 13/40\n",
      "98/98 [==============================] - 0s 5ms/step - loss: 0.0503 - accuracy: 0.6167\n",
      "Epoch 14/40\n",
      "98/98 [==============================] - 0s 5ms/step - loss: 0.0500 - accuracy: 0.6213\n",
      "Epoch 15/40\n",
      "98/98 [==============================] - 0s 5ms/step - loss: 0.0491 - accuracy: 0.6302\n",
      "Epoch 16/40\n",
      "98/98 [==============================] - 0s 5ms/step - loss: 0.0485 - accuracy: 0.6353\n",
      "Epoch 17/40\n",
      "98/98 [==============================] - 0s 5ms/step - loss: 0.0476 - accuracy: 0.6471\n",
      "Epoch 18/40\n",
      "98/98 [==============================] - 0s 5ms/step - loss: 0.0472 - accuracy: 0.6500\n",
      "Epoch 19/40\n",
      "98/98 [==============================] - 0s 5ms/step - loss: 0.0462 - accuracy: 0.6594\n",
      "Epoch 20/40\n",
      "98/98 [==============================] - 1s 5ms/step - loss: 0.0455 - accuracy: 0.6679\n",
      "Epoch 21/40\n",
      "98/98 [==============================] - 0s 5ms/step - loss: 0.0453 - accuracy: 0.6680\n",
      "Epoch 22/40\n",
      "98/98 [==============================] - 0s 5ms/step - loss: 0.0445 - accuracy: 0.6768\n",
      "Epoch 23/40\n",
      "98/98 [==============================] - 0s 5ms/step - loss: 0.0438 - accuracy: 0.6866\n",
      "Epoch 24/40\n",
      "98/98 [==============================] - 0s 5ms/step - loss: 0.0434 - accuracy: 0.6908\n",
      "Epoch 25/40\n",
      "98/98 [==============================] - 0s 5ms/step - loss: 0.0430 - accuracy: 0.6938\n",
      "Epoch 26/40\n",
      "98/98 [==============================] - 1s 5ms/step - loss: 0.0425 - accuracy: 0.6987\n",
      "Epoch 27/40\n",
      "98/98 [==============================] - 0s 5ms/step - loss: 0.0420 - accuracy: 0.7043\n",
      "Epoch 28/40\n",
      "98/98 [==============================] - 0s 5ms/step - loss: 0.0415 - accuracy: 0.7085\n",
      "Epoch 29/40\n",
      "98/98 [==============================] - 0s 5ms/step - loss: 0.0410 - accuracy: 0.7126\n",
      "Epoch 30/40\n",
      "98/98 [==============================] - 0s 5ms/step - loss: 0.0404 - accuracy: 0.7191\n",
      "Epoch 31/40\n",
      "98/98 [==============================] - 0s 5ms/step - loss: 0.0398 - accuracy: 0.7247\n",
      "Epoch 32/40\n",
      "98/98 [==============================] - 0s 5ms/step - loss: 0.0394 - accuracy: 0.7298\n",
      "Epoch 33/40\n",
      "98/98 [==============================] - 0s 5ms/step - loss: 0.0388 - accuracy: 0.7338\n",
      "Epoch 34/40\n",
      "98/98 [==============================] - 0s 5ms/step - loss: 0.0383 - accuracy: 0.7377\n",
      "Epoch 35/40\n",
      "98/98 [==============================] - 0s 5ms/step - loss: 0.0381 - accuracy: 0.7390\n",
      "Epoch 36/40\n",
      "98/98 [==============================] - 0s 5ms/step - loss: 0.0374 - accuracy: 0.7466\n",
      "Epoch 37/40\n",
      "98/98 [==============================] - 1s 5ms/step - loss: 0.0371 - accuracy: 0.7472\n",
      "Epoch 38/40\n",
      "98/98 [==============================] - 0s 5ms/step - loss: 0.0370 - accuracy: 0.7489\n",
      "Epoch 39/40\n",
      "98/98 [==============================] - 0s 5ms/step - loss: 0.0362 - accuracy: 0.7555\n",
      "Epoch 40/40\n",
      "98/98 [==============================] - 0s 5ms/step - loss: 0.0357 - accuracy: 0.7596\n"
     ]
    }
   ],
   "source": [
    "history=model.fit(X_train,Y_train,epochs=40,batch_size=256) #fitting the model to the data"
   ]
  },
  {
   "cell_type": "markdown",
   "id": "576f7c18",
   "metadata": {},
   "source": [
    "## Evaluate the vanilla RNN based on the testing set in the cell below (5 marks)"
   ]
  },
  {
   "cell_type": "code",
   "execution_count": 5,
   "id": "2f0b7d38",
   "metadata": {},
   "outputs": [
    {
     "name": "stdout",
     "output_type": "stream",
     "text": [
      "31250/31250 [==============================] - 39s 1ms/step - loss: 0.0375 - accuracy: 0.7425\n"
     ]
    }
   ],
   "source": [
    "loss,accuracy = model.evaluate(X_test,Y_test)# evaluate loss and accuracy scores"
   ]
  },
  {
   "cell_type": "markdown",
   "id": "c290f83d",
   "metadata": {},
   "source": [
    "## Present the classification accuracy and confusion matrix of the vanilla RNN in the cell below (10 marks)"
   ]
  },
  {
   "cell_type": "code",
   "execution_count": 6,
   "id": "cb933152",
   "metadata": {},
   "outputs": [
    {
     "name": "stdout",
     "output_type": "stream",
     "text": [
      "THE CLASSIFICATION ACCURACY OF THE MODEL IS 0.742\n"
     ]
    },
    {
     "data": {
      "image/png": "[encoded data removed]",
      "text/plain": [
       "<Figure size 576x576 with 2 Axes>"
      ]
     },
     "metadata": {
      "needs_background": "light"
     },
     "output_type": "display_data"
    }
   ],
   "source": [
    "print(f\"THE CLASSIFICATION ACCURACY OF THE MODEL IS {accuracy:.3f}\")#print the classification accuracy\n",
    "\n",
    "\n",
    "Y_pred = model.predict(X_test)#ask it to predict the labels\n",
    "\n",
    "# convert predicted probabilities to predicted labels\n",
    "Y_pred = np.argmax(Y_pred, axis=1)\n",
    "\n",
    "#returns indices of the elements of Y_test\n",
    "y_test = np.argmax(Y_test, axis=1)\n",
    "\n",
    "# create confusion matrix\n",
    "cm = confusion_matrix(y_test, Y_pred)\n",
    "\n",
    "#plot the confusion matrix, define size\n",
    "cm_visual = ConfusionMatrixDisplay(confusion_matrix = cm)\n",
    "fig, ax = plt.subplots(figsize=(8, 8))\n",
    "cm_visual.plot(ax=ax)\n",
    "\n",
    "#show the confusion matrix\n",
    "plt.show()"
   ]
  },
  {
   "cell_type": "markdown",
   "id": "f5468eca",
   "metadata": {},
   "source": [
    "## Implement the second RNN based on LSTM or GRU neurons in the cell below (10 marks)"
   ]
  },
  {
   "cell_type": "code",
   "execution_count": 7,
   "id": "a564eae5",
   "metadata": {},
   "outputs": [
    {
     "name": "stdout",
     "output_type": "stream",
     "text": [
      "Model: \"sequential_1\"\n",
      "_________________________________________________________________\n",
      " Layer (type)                Output Shape              Param #   \n",
      "=================================================================\n",
      " gru (GRU)                   (None, 100)               31200     \n",
      "                                                                 \n",
      " dense_1 (Dense)             (None, 10)                1010      \n",
      "                                                                 \n",
      "=================================================================\n",
      "Total params: 32,210\n",
      "Trainable params: 32,210\n",
      "Non-trainable params: 0\n",
      "_________________________________________________________________\n"
     ]
    }
   ],
   "source": [
    "#DEFINING THE GRU RNN\n",
    "model2=Sequential()#container for the model\n",
    "\n",
    "model2.add(GRU(units=100, input_shape=(5,2), activation='relu'))#First RNN input layer with 100 neurons\n",
    "model2.add(Dense(units=10, activation='softmax'))#output layer with 10 neurons because there are 10 classes\n",
    "\n",
    "#compiling the model with parameters\n",
    "model2.compile(optimizer='adam',loss='mean_squared_error',metrics=['accuracy'])\n",
    "model2.summary()\n"
   ]
  },
  {
   "cell_type": "markdown",
   "id": "67424812",
   "metadata": {},
   "source": [
    "## Train the second RNN based on the training set in the cell below (5 marks)"
   ]
  },
  {
   "cell_type": "code",
   "execution_count": 11,
   "id": "48addae9",
   "metadata": {
    "scrolled": false
   },
   "outputs": [
    {
     "name": "stdout",
     "output_type": "stream",
     "text": [
      "Epoch 1/40\n",
      "98/98 [==============================] - 1s 11ms/step - loss: 0.0362 - accuracy: 0.7521\n",
      "Epoch 2/40\n",
      "98/98 [==============================] - 1s 11ms/step - loss: 0.0361 - accuracy: 0.7515\n",
      "Epoch 3/40\n",
      "98/98 [==============================] - 1s 10ms/step - loss: 0.0356 - accuracy: 0.7557\n",
      "Epoch 4/40\n",
      "98/98 [==============================] - 1s 10ms/step - loss: 0.0357 - accuracy: 0.7544\n",
      "Epoch 5/40\n",
      "98/98 [==============================] - 1s 10ms/step - loss: 0.0356 - accuracy: 0.7544\n",
      "Epoch 6/40\n",
      "98/98 [==============================] - 1s 10ms/step - loss: 0.0351 - accuracy: 0.7600\n",
      "Epoch 7/40\n",
      "98/98 [==============================] - 1s 10ms/step - loss: 0.0349 - accuracy: 0.7602\n",
      "Epoch 8/40\n",
      "98/98 [==============================] - 1s 10ms/step - loss: 0.0346 - accuracy: 0.7630\n",
      "Epoch 9/40\n",
      "98/98 [==============================] - 1s 10ms/step - loss: 0.0345 - accuracy: 0.7640\n",
      "Epoch 10/40\n",
      "98/98 [==============================] - 1s 10ms/step - loss: 0.0345 - accuracy: 0.7643\n",
      "Epoch 11/40\n",
      "98/98 [==============================] - 1s 10ms/step - loss: 0.0340 - accuracy: 0.7677\n",
      "Epoch 12/40\n",
      "98/98 [==============================] - 1s 10ms/step - loss: 0.0341 - accuracy: 0.7681\n",
      "Epoch 13/40\n",
      "98/98 [==============================] - 1s 10ms/step - loss: 0.0335 - accuracy: 0.7720\n",
      "Epoch 14/40\n",
      "98/98 [==============================] - 1s 10ms/step - loss: 0.0334 - accuracy: 0.7712\n",
      "Epoch 15/40\n",
      "98/98 [==============================] - 1s 11ms/step - loss: 0.0334 - accuracy: 0.7715\n",
      "Epoch 16/40\n",
      "98/98 [==============================] - 1s 10ms/step - loss: 0.0331 - accuracy: 0.7757\n",
      "Epoch 17/40\n",
      "98/98 [==============================] - 1s 10ms/step - loss: 0.0331 - accuracy: 0.7760\n",
      "Epoch 18/40\n",
      "98/98 [==============================] - 1s 9ms/step - loss: 0.0328 - accuracy: 0.7769\n",
      "Epoch 19/40\n",
      "98/98 [==============================] - 1s 9ms/step - loss: 0.0325 - accuracy: 0.7800\n",
      "Epoch 20/40\n",
      "98/98 [==============================] - 1s 10ms/step - loss: 0.0330 - accuracy: 0.7748\n",
      "Epoch 21/40\n",
      "98/98 [==============================] - 1s 10ms/step - loss: 0.0322 - accuracy: 0.7840\n",
      "Epoch 22/40\n",
      "98/98 [==============================] - 1s 9ms/step - loss: 0.0320 - accuracy: 0.7831\n",
      "Epoch 23/40\n",
      "98/98 [==============================] - 1s 10ms/step - loss: 0.0319 - accuracy: 0.7855\n",
      "Epoch 24/40\n",
      "98/98 [==============================] - 1s 10ms/step - loss: 0.0313 - accuracy: 0.7913\n",
      "Epoch 25/40\n",
      "98/98 [==============================] - 1s 10ms/step - loss: 0.0311 - accuracy: 0.7913\n",
      "Epoch 26/40\n",
      "98/98 [==============================] - 1s 10ms/step - loss: 0.0309 - accuracy: 0.7943\n",
      "Epoch 27/40\n",
      "98/98 [==============================] - 1s 11ms/step - loss: 0.0309 - accuracy: 0.7958\n",
      "Epoch 28/40\n",
      "98/98 [==============================] - 1s 10ms/step - loss: 0.0309 - accuracy: 0.7942\n",
      "Epoch 29/40\n",
      "98/98 [==============================] - 1s 10ms/step - loss: 0.0307 - accuracy: 0.7956\n",
      "Epoch 30/40\n",
      "98/98 [==============================] - 1s 10ms/step - loss: 0.0301 - accuracy: 0.8001\n",
      "Epoch 31/40\n",
      "98/98 [==============================] - 1s 10ms/step - loss: 0.0303 - accuracy: 0.7988\n",
      "Epoch 32/40\n",
      "98/98 [==============================] - 1s 10ms/step - loss: 0.0300 - accuracy: 0.8016\n",
      "Epoch 33/40\n",
      "98/98 [==============================] - 1s 10ms/step - loss: 0.0300 - accuracy: 0.8010\n",
      "Epoch 34/40\n",
      "98/98 [==============================] - 1s 10ms/step - loss: 0.0291 - accuracy: 0.8091\n",
      "Epoch 35/40\n",
      "98/98 [==============================] - 1s 10ms/step - loss: 0.0289 - accuracy: 0.8102\n",
      "Epoch 36/40\n",
      "98/98 [==============================] - 1s 9ms/step - loss: 0.0288 - accuracy: 0.8111\n",
      "Epoch 37/40\n",
      "98/98 [==============================] - 1s 10ms/step - loss: 0.0285 - accuracy: 0.8149\n",
      "Epoch 38/40\n",
      "98/98 [==============================] - 1s 9ms/step - loss: 0.0283 - accuracy: 0.8157\n",
      "Epoch 39/40\n",
      "98/98 [==============================] - 1s 10ms/step - loss: 0.0281 - accuracy: 0.8168\n",
      "Epoch 40/40\n",
      "98/98 [==============================] - 1s 10ms/step - loss: 0.0278 - accuracy: 0.8199\n"
     ]
    }
   ],
   "source": [
    "history=model2.fit(X_train,Y_train,epochs=40,batch_size=256) #fitting the model to the data"
   ]
  },
  {
   "cell_type": "markdown",
   "id": "da3522ea",
   "metadata": {},
   "source": [
    "## Evaluate the second RNN based on the testing set in the cell below (5 marks)"
   ]
  },
  {
   "cell_type": "code",
   "execution_count": 12,
   "id": "7279608c",
   "metadata": {},
   "outputs": [
    {
     "name": "stdout",
     "output_type": "stream",
     "text": [
      "31250/31250 [==============================] - 55s 2ms/step - loss: 0.0297 - accuracy: 0.8059\n"
     ]
    }
   ],
   "source": [
    "loss,accuracy=model2.evaluate(X_test,Y_test) # evaluate loss and accuracy scores"
   ]
  },
  {
   "cell_type": "markdown",
   "id": "a8a03ed1",
   "metadata": {},
   "source": [
    "## Present the classification accuracy and confusion matrix of the second RNN in the cell below (10 marks)"
   ]
  },
  {
   "cell_type": "code",
   "execution_count": 13,
   "id": "4805e452",
   "metadata": {},
   "outputs": [
    {
     "name": "stdout",
     "output_type": "stream",
     "text": [
      "THE CLASSIFICATION ACCURACY OF THE MODEL IS 0.806\n"
     ]
    },
    {
     "data": {
      "image/png": "[encoded data removed]",
      "text/plain": [
       "<Figure size 576x576 with 2 Axes>"
      ]
     },
     "metadata": {
      "needs_background": "light"
     },
     "output_type": "display_data"
    }
   ],
   "source": [
    "print(f\"THE CLASSIFICATION ACCURACY OF THE MODEL IS {accuracy:.3f}\")#print the classification accuracy\n",
    "\n",
    "Y_pred = model2.predict(X_test)#asks the model to predict the labels\n",
    "\n",
    "\n",
    "# convert predicted probabilities to predicted labels\n",
    "Y_pred = np.argmax(Y_pred, axis=1)\n",
    "\n",
    "#returns indices of the elements of Y_test\n",
    "y_test = np.argmax(Y_test, axis=1)\n",
    "\n",
    "# create confusion matrix\n",
    "cm = confusion_matrix(y_test, Y_pred)\n",
    "\n",
    "#plot the confusion matrix, define size\n",
    "cm_visual = ConfusionMatrixDisplay(confusion_matrix = cm)\n",
    "fig, ax = plt.subplots(figsize=(8, 8))\n",
    "cm_visual.plot(ax=ax)\n",
    "\n",
    "#show the confusion matrix\n",
    "plt.show()"
   ]
  },
  {
   "cell_type": "markdown",
   "id": "b792b2df",
   "metadata": {},
   "source": [
    "## Answer the following question in the cell below  (10 marks).\n",
    "\n",
    "## Question:\n",
    "Compare the advantages and disadvantages of the two models you have implemented and give some ideas on how to improve these results/performance further."
   ]
  },
  {
   "cell_type": "markdown",
   "id": "b16b5401",
   "metadata": {},
   "source": [
    "The simple/vanilla RNN trains in a shorter time than the GRU RNN, about half the time given that all conditions (number of neurons, number of layers, optimiser etc) are equal.\n",
    "However the GRU has more parameters for the same number of neurons, and so is able to learn more representations of the data which gave it a higher accuracy.\n",
    "GRU also takes care of the vanishing gradient problem much better than vanilla.\n",
    "I could have improved the performance by adding an L1 regulariser which imposes a penalty on the weights.\n",
    "I could have also improved the accuracy by using a categorical_crossentropy loss function which is more suited to multi-class problems.\n",
    "Increasing the number of epochs would also have increased the performance."
   ]
  },
  {
   "cell_type": "markdown",
   "id": "680e033b",
   "metadata": {},
   "source": [
    "## Additional remarks:\n",
    "\n",
    "Code outline appropriately commented. (10 marks)\n",
    "\n",
    "Code running without errors. (10 marks)"
   ]
  },
  {
   "cell_type": "code",
   "execution_count": null,
   "id": "b825187c",
   "metadata": {},
   "outputs": [],
   "source": []
  }
 ],
 "metadata": {
  "kernelspec": {
   "display_name": "Python 3 (ipykernel)",
   "language": "python",
   "name": "python3"
  },
  "language_info": {
   "codemirror_mode": {
    "name": "ipython",
    "version": 3
   },
   "file_extension": ".py",
   "mimetype": "text/x-python",
   "name": "python",
   "nbconvert_exporter": "python",
   "pygments_lexer": "ipython3",
   "version": "3.8.10"
  }
 },
 "nbformat": 4,
 "nbformat_minor": 5
}
