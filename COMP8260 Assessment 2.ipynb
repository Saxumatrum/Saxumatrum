{
 "cells": [
  {
   "cell_type": "markdown",
   "metadata": {
    "colab_type": "text"
   },
   "source": [
    "# COMP8260 Assessed Class 2 #\n",
    "\n",
    "The following assessment asks a series of questions based on the structure of Convolutional Neural Networks.\n",
    "\n",
    "Answer each by modifying the code or asnwering the question asked.\n",
    "\n",
    "You may need to consult the Keras reference at https://keras.io/api/ for ideas for suitable answers. "
   ]
  },
  {
   "cell_type": "markdown",
   "metadata": {
    "colab_type": "text"
   },
   "source": [
    "# Q1 #\n",
    "\n",
    "Examine the following skeleton definition of a CNN in Keras similar to that employed in Class 4\n",
    "\n",
    "Fill in the missing sections to define a convolutional neural network with the following configuration\n",
    "\n",
    "- Two convolutional layers with 8 and 16 filters respectively, a kernel size of 5 and rectivied linear activation.\n",
    "\n",
    "- One Max pooling layer with a pool size of 2. Place this at an appropriate position with the network.\n",
    "\n",
    "- One filly connected layer with 10 outputs and \"softmax\" activation.\n",
    "\n",
    "- One other type of layer is required within this configuration. Identify what it should be and place it at an appropraite position in the network.\n",
    "\n"
   ]
  },
  {
   "cell_type": "code",
   "execution_count": 1,
   "metadata": {
    "colab_type": "code"
   },
   "outputs": [],
   "source": [
    "from tensorflow import keras\n",
    "from tensorflow.keras import layers\n",
    "from keras.layers import Flatten\n",
    "from keras.layers import MaxPooling2D\n",
    "\n",
    "inputs = keras.Input(shape=(28, 28, 1))\n",
    "x = layers.Conv2D(filters=8,kernel_size=5, activation='relu')(inputs)\n",
    "first_pool= layers.MaxPooling2D(pool_size=(2,2))(x)\n",
    "secondConv= layers.Conv2D(filters=16,kernel_size=5, activation='relu')(first_pool)\n",
    "flat=layers.Flatten()(secondConv)\n",
    "outputs = layers.Dense(10,activation='softmax')(flat)\n",
    "model = keras.Model(inputs=inputs, outputs=outputs)"
   ]
  },
  {
   "cell_type": "markdown",
   "metadata": {
    "colab_type": "text"
   },
   "source": [
    "**Displaying the model's summary**"
   ]
  },
  {
   "cell_type": "code",
   "execution_count": 2,
   "metadata": {
    "colab_type": "code"
   },
   "outputs": [
    {
     "name": "stdout",
     "output_type": "stream",
     "text": [
      "Model: \"model\"\n",
      "_________________________________________________________________\n",
      " Layer (type)                Output Shape              Param #   \n",
      "=================================================================\n",
      " input_1 (InputLayer)        [(None, 28, 28, 1)]       0         \n",
      "                                                                 \n",
      " conv2d (Conv2D)             (None, 24, 24, 8)         208       \n",
      "                                                                 \n",
      " max_pooling2d (MaxPooling2D  (None, 12, 12, 8)        0         \n",
      " )                                                               \n",
      "                                                                 \n",
      " conv2d_1 (Conv2D)           (None, 8, 8, 16)          3216      \n",
      "                                                                 \n",
      " flatten (Flatten)           (None, 1024)              0         \n",
      "                                                                 \n",
      " dense (Dense)               (None, 10)                10250     \n",
      "                                                                 \n",
      "=================================================================\n",
      "Total params: 13,674\n",
      "Trainable params: 13,674\n",
      "Non-trainable params: 0\n",
      "_________________________________________________________________\n"
     ]
    }
   ],
   "source": [
    "model.summary()"
   ]
  },
  {
   "cell_type": "markdown",
   "metadata": {
    "colab_type": "text"
   },
   "source": [
    "# Q2 #\n",
    "\n",
    "Provide suitable configurations to compile the model in Q1 using an optimiser and an error calculation. \n",
    "- ensure you use a different, though still appropriate, optimiser that the \"adam\" optimiser used in Class 3.\n",
    "- choose an appropraite error (\"loss\") function.\n",
    "\n",
    "- train the network for 10 epochs with a suitable batch size."
   ]
  },
  {
   "cell_type": "code",
   "execution_count": 3,
   "metadata": {
    "colab_type": "code"
   },
   "outputs": [
    {
     "name": "stdout",
     "output_type": "stream",
     "text": [
      "Epoch 1/10\n",
      "1875/1875 [==============================] - 28s 15ms/step - loss: 0.4893 - accuracy: 0.8516\n",
      "Epoch 2/10\n",
      "1875/1875 [==============================] - 26s 14ms/step - loss: 0.1733 - accuracy: 0.9482\n",
      "Epoch 3/10\n",
      "1875/1875 [==============================] - 28s 15ms/step - loss: 0.1236 - accuracy: 0.9631\n",
      "Epoch 4/10\n",
      "1875/1875 [==============================] - 28s 15ms/step - loss: 0.0991 - accuracy: 0.9708\n",
      "Epoch 5/10\n",
      "1875/1875 [==============================] - 28s 15ms/step - loss: 0.0838 - accuracy: 0.9750\n",
      "Epoch 6/10\n",
      "1875/1875 [==============================] - 29s 15ms/step - loss: 0.0734 - accuracy: 0.9775\n",
      "Epoch 7/10\n",
      "1875/1875 [==============================] - 28s 15ms/step - loss: 0.0676 - accuracy: 0.9793\n",
      "Epoch 8/10\n",
      "1875/1875 [==============================] - 29s 15ms/step - loss: 0.0619 - accuracy: 0.9811\n",
      "Epoch 9/10\n",
      "1875/1875 [==============================] - 29s 15ms/step - loss: 0.0573 - accuracy: 0.9825\n",
      "Epoch 10/10\n",
      "1875/1875 [==============================] - 29s 15ms/step - loss: 0.0537 - accuracy: 0.9838\n"
     ]
    },
    {
     "data": {
      "text/plain": [
       "<keras.callbacks.History at 0x1b0a0b146a0>"
      ]
     },
     "execution_count": 3,
     "metadata": {},
     "output_type": "execute_result"
    }
   ],
   "source": [
    "from tensorflow.keras.datasets import mnist\n",
    "\n",
    "(train_images, train_labels), (test_images, test_labels) = mnist.load_data()\n",
    "train_images = train_images.reshape((60000, 28, 28, 1))\n",
    "train_images = train_images.astype(\"float32\") / 255\n",
    "test_images = test_images.reshape((10000, 28, 28, 1))\n",
    "test_images = test_images.astype(\"float32\") / 255\n",
    "\n",
    "model.compile(optimizer='sgd',\n",
    "              loss='sparse_categorical_crossentropy',\n",
    "              metrics=['accuracy'])\n",
    "\n",
    "model.fit(train_images, train_labels, batch_size=32,epochs=10)"
   ]
  },
  {
   "cell_type": "markdown",
   "metadata": {
    "colab_type": "text"
   },
   "source": [
    "**Evaluating the convnet**"
   ]
  },
  {
   "cell_type": "code",
   "execution_count": 4,
   "metadata": {
    "colab_type": "code"
   },
   "outputs": [
    {
     "name": "stdout",
     "output_type": "stream",
     "text": [
      "313/313 [==============================] - 3s 8ms/step - loss: 0.0541 - accuracy: 0.9818\n",
      "Test accuracy: 0.982\n"
     ]
    }
   ],
   "source": [
    "test_loss, test_acc = model.evaluate(test_images, test_labels)\n",
    "print(f\"Test accuracy: {test_acc:.3f}\")"
   ]
  },
  {
   "cell_type": "markdown",
   "metadata": {},
   "source": [
    "# Q3 #\n",
    "\n",
    "Difine a fully connected network for the following input with:\n",
    "\n",
    "- four layers \n",
    "- a suitable number of units in each layer\n",
    "- a suitable activation function for each layer bearing in mind these may not be the same for each layer. Do not use the sigmoid activation as was used in class 3. Select other suitable alternatives.\n",
    "\n"
   ]
  },
  {
   "cell_type": "code",
   "execution_count": 7,
   "metadata": {
    "scrolled": true
   },
   "outputs": [
    {
     "name": "stdout",
     "output_type": "stream",
     "text": [
      "Model: \"model_2\"\n",
      "_________________________________________________________________\n",
      " Layer (type)                Output Shape              Param #   \n",
      "=================================================================\n",
      " input_3 (InputLayer)        [(None, 784)]             0         \n",
      "                                                                 \n",
      " dense_4 (Dense)             (None, 784)               615440    \n",
      "                                                                 \n",
      " dense_5 (Dense)             (None, 450)               353250    \n",
      "                                                                 \n",
      " dense_6 (Dense)             (None, 10)                4510      \n",
      "                                                                 \n",
      "=================================================================\n",
      "Total params: 973,200\n",
      "Trainable params: 973,200\n",
      "Non-trainable params: 0\n",
      "_________________________________________________________________\n"
     ]
    }
   ],
   "source": [
    "from tensorflow import keras\n",
    "from tensorflow.keras import layers\n",
    "from keras.layers import Dense, Activation\n",
    "\n",
    "inputs = keras.Input(shape=(28 * 28)) # 28 x 28 grey scaled images\n",
    "\n",
    "first = layers.Dense(784,activation='tanh')(inputs)\n",
    "second= layers.Dense(450,activation='tanh')(first)\n",
    "outputs = layers.Dense(10, activation='softmax')(second)\n",
    "\n",
    "model = keras.Model(inputs=inputs, outputs=outputs)\n",
    "\n",
    "model.summary()"
   ]
  },
  {
   "cell_type": "markdown",
   "metadata": {},
   "source": [
    "# Q4 #\n",
    "\n",
    "Provide suitable Keras statements to compile and train the network defined in Q3 but choosing a different optimiser than that employed in class 3."
   ]
  },
  {
   "cell_type": "code",
   "execution_count": 9,
   "metadata": {
    "scrolled": true
   },
   "outputs": [
    {
     "name": "stdout",
     "output_type": "stream",
     "text": [
      "Epoch 1/10\n",
      "1875/1875 [==============================] - 27s 14ms/step - loss: 0.2291 - accuracy: 0.9348\n",
      "Epoch 2/10\n",
      "1875/1875 [==============================] - 26s 14ms/step - loss: 0.2098 - accuracy: 0.9406\n",
      "Epoch 3/10\n",
      "1875/1875 [==============================] - 27s 14ms/step - loss: 0.1929 - accuracy: 0.9456\n",
      "Epoch 4/10\n",
      "1875/1875 [==============================] - 26s 14ms/step - loss: 0.1772 - accuracy: 0.9499\n",
      "Epoch 5/10\n",
      "1875/1875 [==============================] - 27s 14ms/step - loss: 0.1639 - accuracy: 0.9535\n",
      "Epoch 6/10\n",
      "1875/1875 [==============================] - 27s 14ms/step - loss: 0.1524 - accuracy: 0.9566\n",
      "Epoch 7/10\n",
      "1875/1875 [==============================] - 27s 14ms/step - loss: 0.1417 - accuracy: 0.9595\n",
      "Epoch 8/10\n",
      "1875/1875 [==============================] - 27s 15ms/step - loss: 0.1325 - accuracy: 0.9619\n",
      "Epoch 9/10\n",
      "1875/1875 [==============================] - 27s 14ms/step - loss: 0.1242 - accuracy: 0.9650\n",
      "Epoch 10/10\n",
      "1875/1875 [==============================] - 26s 14ms/step - loss: 0.1169 - accuracy: 0.9667\n"
     ]
    },
    {
     "data": {
      "text/plain": [
       "<keras.callbacks.History at 0x1b0af94c2b0>"
      ]
     },
     "execution_count": 9,
     "metadata": {},
     "output_type": "execute_result"
    }
   ],
   "source": [
    "model.compile(optimizer='sgd',\n",
    "              loss='sparse_categorical_crossentropy',\n",
    "              metrics=['accuracy'])\n",
    "#Reshpaing into linear vector\n",
    "train_images = train_images.reshape((60000, 28 * 28))\n",
    "test_images = test_images.reshape((10000, 28 * 28))\n",
    "\n",
    "model.fit(train_images,train_labels,batch_size=32,epochs=10)"
   ]
  },
  {
   "cell_type": "markdown",
   "metadata": {},
   "source": [
    "# Q5 #\n",
    "\n",
    "Explain how two fully connected layers may be used to implement non-linear decision functions. Can two layers be used to implement arbitrary decision functions? If not, what restrictions remain on the type of decision function which may be implemented?\n",
    "\n",
    "Explain what is meant by Deep Learning."
   ]
  },
  {
   "cell_type": "markdown",
   "metadata": {},
   "source": [
    "Q5 Answer\n",
    "\n",
    "Two fully connected layers can be used to implement non-linear decision functions by applying non-linear activation functions between the layers. The activation function introduces non-linearity to the model and allows it to learn complex decision boundaries.An activation function such as ReLU, Sigmoid, or Tanh is applied to the output of the first layer. The activation function applies a non-linear operation to the input and transforms it into a new representation that can be used as the input to the next layer.\n",
    "\n",
    "Deep learning is a form of machine learning which uses multiple layers of neurons to  process and extract increasingly complex features in a dataset. Convolutional Neural Networks fall under the umbrella of deep learning."
   ]
  }
 ],
 "metadata": {
  "colab": {
   "collapsed_sections": [],
   "name": "chapter08_intro-to-dl-for-computer-vision.i",
   "private_outputs": false,
   "provenance": [],
   "toc_visible": true
  },
  "kernelspec": {
   "display_name": "Python 3 (ipykernel)",
   "language": "python",
   "name": "python3"
  },
  "language_info": {
   "codemirror_mode": {
    "name": "ipython",
    "version": 3
   },
   "file_extension": ".py",
   "mimetype": "text/x-python",
   "name": "python",
   "nbconvert_exporter": "python",
   "pygments_lexer": "ipython3",
   "version": "3.9.13"
  }
 },
 "nbformat": 4,
 "nbformat_minor": 1
}
